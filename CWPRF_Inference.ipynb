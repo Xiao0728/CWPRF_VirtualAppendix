{
 "cells": [
  {
   "cell_type": "code",
   "execution_count": 2,
   "id": "ethical-belize",
   "metadata": {},
   "outputs": [],
   "source": [
    "# !pip install transformers==4.10.0"
   ]
  },
  {
   "cell_type": "code",
   "execution_count": 1,
   "id": "bound-segment",
   "metadata": {},
   "outputs": [
    {
     "name": "stdout",
     "output_type": "stream",
     "text": [
      "Wed Jan 18 23:11:50 2023       \r\n",
      "+-----------------------------------------------------------------------------+\r\n",
      "| NVIDIA-SMI 470.74       Driver Version: 470.74       CUDA Version: 11.4     |\r\n",
      "|-------------------------------+----------------------+----------------------+\r\n",
      "| GPU  Name        Persistence-M| Bus-Id        Disp.A | Volatile Uncorr. ECC |\r\n",
      "| Fan  Temp  Perf  Pwr:Usage/Cap|         Memory-Usage | GPU-Util  Compute M. |\r\n",
      "|                               |                      |               MIG M. |\r\n",
      "|===============================+======================+======================|\r\n",
      "|   0  NVIDIA TITAN RTX    Off  | 00000000:1A:00.0 Off |                  N/A |\r\n",
      "| 41%   30C    P8    14W / 280W |      3MiB / 24220MiB |      0%      Default |\r\n",
      "|                               |                      |                  N/A |\r\n",
      "+-------------------------------+----------------------+----------------------+\r\n",
      "                                                                               \r\n",
      "+-----------------------------------------------------------------------------+\r\n",
      "| Processes:                                                                  |\r\n",
      "|  GPU   GI   CI        PID   Type   Process name                  GPU Memory |\r\n",
      "|        ID   ID                                                   Usage      |\r\n",
      "|=============================================================================|\r\n",
      "|  No running processes found                                                 |\r\n",
      "+-----------------------------------------------------------------------------+\r\n"
     ]
    }
   ],
   "source": [
    "!nvidia-smi"
   ]
  },
  {
   "cell_type": "markdown",
   "id": "identified-encyclopedia",
   "metadata": {},
   "source": [
    "## PyTerrier Setup\n",
    "\n",
    "Ensure that FAISS-GPU is installed and working, and setup PyTerrier."
   ]
  },
  {
   "cell_type": "code",
   "execution_count": 2,
   "id": "resistant-monster",
   "metadata": {},
   "outputs": [],
   "source": [
    "import faiss\n",
    "assert faiss.get_num_gpus() > 0"
   ]
  },
  {
   "cell_type": "code",
   "execution_count": 5,
   "id": "satellite-maine",
   "metadata": {},
   "outputs": [
    {
     "name": "stderr",
     "output_type": "stream",
     "text": [
      "PyTerrier 0.9.1 has loaded Terrier 5.7 (built by craigm on 2022-11-10 18:30) and terrier-helper 0.0.7\n",
      "\n"
     ]
    }
   ],
   "source": [
    "import pyterrier as pt\n",
    "pt.init()"
   ]
  },
  {
   "cell_type": "code",
   "execution_count": 7,
   "id": "american-looking",
   "metadata": {},
   "outputs": [
    {
     "name": "stderr",
     "output_type": "stream",
     "text": [
      "Some weights of the model checkpoint at bert-base-uncased were not used when initializing ColBERT: ['cls.predictions.transform.LayerNorm.bias', 'cls.seq_relationship.bias', 'cls.predictions.transform.dense.bias', 'cls.predictions.bias', 'cls.predictions.transform.LayerNorm.weight', 'cls.seq_relationship.weight', 'cls.predictions.transform.dense.weight', 'cls.predictions.decoder.weight']\n",
      "- This IS expected if you are initializing ColBERT from the checkpoint of a model trained on another task or with another architecture (e.g. initializing a BertForSequenceClassification model from a BertForPreTraining model).\n",
      "- This IS NOT expected if you are initializing ColBERT from the checkpoint of a model that you expect to be exactly identical (initializing a BertForSequenceClassification model from a BertForSequenceClassification model).\n",
      "Some weights of ColBERT were not initialized from the model checkpoint at bert-base-uncased and are newly initialized: ['linear.weight']\n",
      "You should probably TRAIN this model on a down-stream task to be able to use it for predictions and inference.\n"
     ]
    },
    {
     "name": "stdout",
     "output_type": "stream",
     "text": [
      "[Jan 18, 23:17:38] #> Loading model checkpoint.\n",
      "[Jan 18, 23:17:38] #> Loading checkpoint /nfs/xiao/GOOD_MODELS/colbert.dnn\n",
      "[Jan 18, 23:17:40] #> checkpoint['epoch'] = 0\n",
      "[Jan 18, 23:17:40] #> checkpoint['batch'] = 44500\n"
     ]
    }
   ],
   "source": [
    "from pyterrier_colbert.ranking import ColBERTFactory\n",
    "factory = ColBERTFactory(\n",
    "    \"/nfs/xiao/GOOD_MODELS/colbert.dnn\",\n",
    "    \"/nfs/craigm/indices/colbert_passage/\",\"index_name3\",memtype='mem'\n",
    ")"
   ]
  },
  {
   "cell_type": "code",
   "execution_count": 17,
   "id": "detected-professor",
   "metadata": {},
   "outputs": [
    {
     "name": "stdout",
     "output_type": "stream",
     "text": [
      "[Jan 18, 23:21:37] #> Loading the FAISS index from /nfs/craigm/indices/colbert_passage/index_name3/ivfpq.faiss ..\n",
      "[Jan 18, 23:22:00] #> Building the emb2pid mapping..\n",
      "[Jan 18, 23:22:46] len(self.emb2pid) = 687989391\n",
      "Loading reranking index, memtype=mem\n"
     ]
    },
    {
     "name": "stderr",
     "output_type": "stream",
     "text": [
      "Loading index shards to memory: 100%|██████████| 24/24 [02:58<00:00,  7.42s/shard]\n"
     ]
    }
   ],
   "source": [
    "factory.faiss_index_on_gpu = True\n",
    "e2e = factory.end_to_end()"
   ]
  },
  {
   "cell_type": "code",
   "execution_count": 3,
   "id": "connected-incident",
   "metadata": {},
   "outputs": [
    {
     "name": "stderr",
     "output_type": "stream",
     "text": [
      "PyTerrier 0.8.0 has loaded Terrier 5.6 (built by craigmacdonald on 2021-09-17 13:27)\n",
      "\n"
     ]
    }
   ],
   "source": [
    "import pyterrier as pt\n",
    "pt.init()\n",
    "\n",
    "dataset = pt.get_dataset(\"trec-deep-learning-passages\")\n",
    "checkpoint=\"http://www.dcs.gla.ac.uk/~craigm/ecir2021-tutorial/colbert_model_checkpoint.zip\""
   ]
  },
  {
   "cell_type": "code",
   "execution_count": 4,
   "id": "explicit-franchise",
   "metadata": {},
   "outputs": [],
   "source": [
    "from pyterrier_colbert.ranking import ColBERTFactory\n",
    "#update this to the location of your ColBERT index for MSMARCO passage ranking.\n",
    "index=(\"/nfs/indices/colbert_passage\",\"index_name3\")\n",
    "\n",
    "factory = ColBERTFactory(checkpoint, *index)"
   ]
  },
  {
   "cell_type": "code",
   "execution_count": 8,
   "id": "straight-knitting",
   "metadata": {},
   "outputs": [],
   "source": [
    "import pandas as pd\n",
    "\n",
    "qrels2019 = pt.get_dataset(\"trec-deep-learning-passages\").get_qrels('test-2019')\n",
    "topics2019 = pt.get_dataset(\"trec-deep-learning-passages\").get_topics('test-2019')\n",
    "topics2019 = topics2019.merge(qrels2019[qrels2019[\"label\"] > 0][[\"qid\"]].drop_duplicates())\n",
    "\n",
    "\n",
    "topics2020 = pt.get_dataset(\"trec-deep-learning-passages\").get_topics('test-2020')\n",
    "qrels2020 = pt.get_dataset(  \"trec-deep-learning-passages\").get_qrels('test-2020')\n",
    "topics2020 = topics2020.merge(qrels2020[qrels2020[\"label\"] > 0][[\"qid\"]].drop_duplicates())\n",
    "\n"
   ]
  },
  {
   "cell_type": "markdown",
   "id": "statistical-looking",
   "metadata": {},
   "source": [
    "# SPRF-Inference"
   ]
  },
  {
   "cell_type": "code",
   "execution_count": 29,
   "id": "painted-playing",
   "metadata": {},
   "outputs": [],
   "source": [
    "import torch \n",
    "from torch import nn\n",
    "if torch.cuda.is_available():\n",
    "    from torch.cuda.amp import autocast\n",
    "from transformers import PreTrainedModel, BertModel, BertTokenizer, BertConfig\n",
    "fnt=factory.nn_term(df=True)\n",
    "class CWPRFEncoder(PreTrainedModel):\n",
    "    config_class = BertConfig\n",
    "    base_model_prefix = 'encoder'\n",
    "    load_tf_weights = None\n",
    "    def __init__(self, config: BertConfig):\n",
    "        super().__init__(config)\n",
    "        self.config = config \n",
    "        self.bert = BertModel(config)\n",
    "        self.tok_proj = torch.nn.Linear(config.hidden_size, 1)\n",
    "\n",
    "    def _init_weights(self, module):\n",
    "            \"\"\" Initialize the weights (needed this for the inherited from_pretrained method to work) \"\"\"\n",
    "            if isinstance(module, (torch.nn.Linear, torch.nn.Embedding)):\n",
    "                # Slightly different from the TF version which uses truncated_normal for initialization\n",
    "                # cf https://github.com/pytorch/pytorch/pull/5617\n",
    "                module.weight.data.normal_(mean=0.0, std=self.config.initializer_range)\n",
    "            elif isinstance(module, torch.nn.LayerNorm):\n",
    "                module.bias.data.zero_()\n",
    "                module.weight.data.fill_(1.0)\n",
    "            if isinstance(module, torch.nn.Linear) and module.bias is not None:\n",
    "                module.bias.data.zero_()\n",
    "\n",
    "    def init_weights(self):\n",
    "        self.bert.init_weights()\n",
    "        self.tok_proj.apply(self._init_weights)\n",
    "\n",
    "    def forward(self, **kargs):\n",
    "        outputs = self.bert(**kargs)\n",
    "        sequence_output = outputs.last_hidden_state \n",
    "        tok_weights = self.tok_proj(sequence_output)\n",
    "        tok_weights = torch.relu(tok_weights)\n",
    "        return tok_weights"
   ]
  },
  {
   "cell_type": "code",
   "execution_count": 24,
   "id": "literary-printing",
   "metadata": {},
   "outputs": [],
   "source": [
    "import os\n",
    "# if not os.path.exists(\"stopword-list.txt\"):\n",
    "#     !wget \"https://raw.githubusercontent.com/terrier-org/terrier-core/5.x/modules/core/src/main/resources/stopword-list.txt\"\n",
    "\n",
    "stops=[]\n",
    "with open(\"stopword-list.txt\") as f:\n",
    "    for l in f:\n",
    "        stops.append(l.strip())\n",
    "\n",
    "from transformers import AutoTokenizer\n",
    "tokenizer = AutoTokenizer.from_pretrained(\"bert-base-uncased\")\n",
    "stop_ids = [x for x in tokenizer.convert_tokens_to_ids(stops) if x != 100]\n",
    "def obtain_tok_w_emb_both(batch_token_ids,batch_embs,batch_weights,variant='AAAT',mode='MAX',stopW=False):\n",
    "    \n",
    "    assert len(batch_embs)==len(batch_token_ids)==len(batch_weights)\n",
    "    rdf=[]\n",
    "    if variant == 'OAAT':\n",
    "        for tokenlst, embslist,weights in zip(batch_token_ids,batch_embs,batch_weights):\n",
    "            rdf_rf = pd.DataFrame({'tid':tokenlst.detach().tolist(),'tok_weight':weights.detach().tolist(), 'tok_emb':embslist.tolist()})\n",
    "            rdf.append(rdf_rf)\n",
    "        if stopW ==True:\n",
    "            df = pd.concat(rdf)\n",
    "            df = df[~df['tid'].isin(stop_ids)]\n",
    "        else:\n",
    "            df = pd.concat(rdf)\n",
    "    elif variant == 'AAAT':\n",
    "        rdf = pd.DataFrame({'tid':list(batch_token_ids.numpy()),'tok_weight': list(batch_weights.detach().numpy()), 'tok_emb':list(batch_embs.numpy())})\n",
    "        if stopW ==True:\n",
    "            df = rdf[~rdf['tid'].isin(stop_ids)]\n",
    "        else:\n",
    "            df = rdf\n",
    "            \n",
    "    special_ids = [101,102,1,2]\n",
    "    df = df[~df['tid'].isin(special_ids)]\n",
    "    \n",
    "    df_dedup = df.drop_duplicates(subset='tid',keep=False)\n",
    "    dup_tids = df[df.duplicated(subset='tid')]['tid'].unique()\n",
    "    \n",
    "\n",
    "    # # max case\n",
    "    if mode =='MAX':\n",
    "        df=df.reset_index(drop=True)\n",
    "        rtr_max = pd.DataFrame(columns=['tid','tok_weight','tok_emb'])\n",
    "        for tid in dup_tids:\n",
    "            rtr_max = rtr_max.append(df.take([df[df.tid==tid]['tok_weight'].idxmax()]))\n",
    "        rtr = df_dedup.append(rtr_max)\n",
    "    elif mode == \"AVG\":\n",
    "        df=df.reset_index(drop=True)\n",
    "        mean_weight,mean_emb =[],[]\n",
    "        for tid in dup_tids:\n",
    "            df_tid = df[df.tid==tid]\n",
    "            mean_weight.append(df[df.tid==tid].tok_weight.mean())\n",
    "            mean_emb.append(torch.mean( torch.stack([torch.Tensor(df_tid.iloc[i].tok_emb) for i in np.arange(len(df_tid))], dim=0), 0))\n",
    "        rtr_mean = pd.DataFrame({'tid':dup_tids,'tok_weight':mean_weight, 'tok_emb':mean_emb})\n",
    "        rtr = df_dedup.append(rtr_mean)\n",
    "    rtr =  rtr.sort_values(by='tok_weight', ascending=False).reset_index(drop=True)\n",
    "    return rtr\n",
    "\n",
    "\n",
    "    \n"
   ]
  },
  {
   "cell_type": "code",
   "execution_count": 25,
   "id": "changing-viewer",
   "metadata": {},
   "outputs": [],
   "source": [
    "\n",
    "import pandas as pd, torch\n",
    "from pyterrier_colbert.ranking import ColbertPRF\n",
    "import sklearn, numpy as np\n",
    "import math\n",
    "\n",
    "class CWPRF_AAAT(ColbertPRF):\n",
    "    def __init__(self,*args,path=None,stopW=False,mode=None, **kwargs):\n",
    "        super().__init__(*args, **kwargs)\n",
    "        self.model = CWPRFEncoder.from_pretrained(\"castorini/unicoil-msmarco-passage\")\n",
    "        self.tokenizer = BertTokenizer.from_pretrained(\"castorini/unicoil-msmarco-passage\")\n",
    "        if path is not None:\n",
    "            checkpoint = torch.load(path)\n",
    "            self.model.load_state_dict(checkpoint['model_state_dict'])\n",
    "        self.max_length = 512  # hardcode for now\n",
    "        self.stopW = stopW\n",
    "        self.mode = mode\n",
    "        \n",
    "    def transform_query(self, topic_and_res : pd.DataFrame) -> pd.DataFrame:\n",
    "        topic_and_res = topic_and_res.sort_values('rank')\n",
    "        Q_toks = torch.cat((topic_and_res.head(1)[\"query_toks\"].values).tolist(),dim=0)\n",
    "        Q_embs = torch.cat((topic_and_res.head(1)[\"query_embs\"].values).tolist(),dim=0)\n",
    "        # get the toks and embeddings in the feedback passages\n",
    "        prf_embs = []\n",
    "        prf_toks = [] \n",
    "        for docid in topic_and_res.head(self.fb_docs).docid.values:\n",
    "            doc_embs = factory.rrm.get_embedding(docid)\n",
    "            doc_toks = fnt.get_tokens_for_doc(docid)\n",
    "            # we need to crop out the unused embeddings\n",
    "            doc_embs = doc_embs[0:doc_toks.shape[0], :]\n",
    "            prf_embs.append(doc_embs)\n",
    "            prf_toks.append(doc_toks)\n",
    "        prf_embs = torch.cat(prf_embs)\n",
    "        prf_toks = torch.cat(prf_toks)\n",
    "        prf_toks = torch.cat([Q_toks, prf_toks],dim=0)\n",
    "        prf_embs = torch.cat([Q_embs, prf_embs],dim=0)       \n",
    "        if prf_toks.shape[0] > 512:\n",
    "            prf_toks = prf_toks[0:512]\n",
    "            prf_embs = prf_embs[0:512, :]     \n",
    "        outputs = self.model(input_ids=prf_toks.unsqueeze(0), attention_mask=torch.ones_like(prf_toks).unsqueeze(0))\n",
    "        outputs_weights =outputs.squeeze(dim=2).squeeze(dim=0)\n",
    "        #  \n",
    "        tok_and_weights_embs_df = obtain_tok_w_emb_both(prf_toks[32:], prf_embs[32:], outputs_weights[32:],variant = 'AAAT',mode=self.mode, stopW = self.stopW)\n",
    "\n",
    "        max_weight = tok_and_weights_embs_df.iloc[0].tok_weight \n",
    "\n",
    "        \n",
    "        exp_tokens = tok_and_weights_embs_df.head(self.fb_embs).tid.tolist()\n",
    "        sprf_weights = tok_and_weights_embs_df.head(self.fb_embs).tok_weight.tolist()/max_weight\n",
    "        exp_embds_list = tok_and_weights_embs_df.head(self.fb_embs).tok_emb.tolist()\n",
    "        exp_embds = [torch.Tensor(item).float() for item in exp_embds_list]\n",
    "\n",
    "  \n",
    "        # build up the new dataframe columns\n",
    "        first_row = topic_and_res.iloc[0]\n",
    "\n",
    "        \n",
    "        # concatenate the new embeddings to the existing query embeddings \n",
    "        newemb = torch.cat([\n",
    "            first_row.query_embs, \n",
    "            torch.stack(exp_embds)\n",
    "        ])\n",
    "        \n",
    "        # the weights column defines important of each query embedding\n",
    "        weights = torch.cat([ \n",
    "            torch.ones(len(first_row.query_embs)),\n",
    "            self.beta * torch.Tensor(sprf_weights)]\n",
    "        )\n",
    "        exp_tokens = torch.IntTensor(exp_tokens)\n",
    "        \n",
    "        \n",
    "        toks = torch.cat([first_row.query_toks,\n",
    "                          exp_tokens])\n",
    "        \n",
    "        # generate the revised query dataframe row\n",
    "        rtr = pd.DataFrame([\n",
    "            [first_row.qid, \n",
    "            first_row.docno,\n",
    "            first_row.query, \n",
    "            newemb, \n",
    "            toks, \n",
    "            weights ]\n",
    "            ],\n",
    "            columns=[\"qid\",\"docno\", \"query\", \"query_embs\", \"query_toks\", \"query_weights\"])\n",
    "        \n",
    "        return rtr\n",
    "        \n"
   ]
  },
  {
   "cell_type": "code",
   "execution_count": 26,
   "id": "appreciated-bailey",
   "metadata": {},
   "outputs": [],
   "source": [
    "import pandas as pd, torch\n",
    "from pyterrier_colbert.ranking import ColbertPRF\n",
    "import sklearn, numpy as np\n",
    "import math\n",
    "\n",
    "class CWPRF_OAAT(ColbertPRF):\n",
    "    def __init__(self,*args,path=None,stopW=False,mode=None, **kwargs):\n",
    "        super().__init__(*args, **kwargs)\n",
    "        self.model = CWPRFEncoder.from_pretrained(\"castorini/unicoil-msmarco-passage\")\n",
    "        self.tokenizer = BertTokenizer.from_pretrained(\"castorini/unicoil-msmarco-passage\")\n",
    "        if path is not None:\n",
    "            checkpoint = torch.load(path)\n",
    "            self.model.load_state_dict(checkpoint['model_state_dict'])\n",
    "        self.max_length = 512  # hardcode for now\n",
    "        self.stopW = stopW\n",
    "        self.mode = mode\n",
    "\n",
    "        \n",
    "    def transform_query(self, topic_and_res : pd.DataFrame) -> pd.DataFrame:\n",
    "        topic_and_res = topic_and_res.sort_values('rank')\n",
    "        Q_toks = torch.cat((topic_and_res.head(1)[\"query_toks\"].values).tolist(),dim=0)\n",
    "        #         print(\"Q_toks:\",Q_toks)\n",
    "        Q_embs = torch.cat((topic_and_res.head(1)[\"query_embs\"].values).tolist(),dim=0)\n",
    "\n",
    "        # get the toks and embeddings in the feedback passages\n",
    "        prf_embs = []\n",
    "        prf_toks = [] \n",
    "\n",
    "        outputs_seperate_weight =[]\n",
    "        for docid in topic_and_res.head(self.fb_docs).docid.values:\n",
    "            doc_embs = factory.rrm.get_embedding(docid)\n",
    "            doc_toks = fnt.get_tokens_for_doc(docid)\n",
    "            # we need to crop out the unused embeddings\n",
    "            doc_embs = doc_embs[0:doc_toks.shape[0], :]\n",
    "\n",
    "            prf_embs.append(doc_embs)\n",
    "            prf_toks.append(doc_toks)\n",
    "\n",
    "            if doc_toks.shape[0] > 512:\n",
    "                doc_toks = doc_toks[0:512]\n",
    "                doc_embs = doc_embs[0:512, :] \n",
    "\n",
    "            doc_toks_withQ = torch.cat([Q_toks,doc_toks],dim=0)\n",
    "      \n",
    "            outputs_seperate = self.model(input_ids=doc_toks_withQ.unsqueeze(0), attention_mask=torch.ones_like(doc_toks_withQ).unsqueeze(0))\n",
    "            outputs_seperate = outputs_seperate.squeeze(dim=2).squeeze(dim=0)\n",
    "            outputs_seperate_weight.append(outputs_seperate[32:])\n",
    "\n",
    "        # obtain the sprf predicted weights for each prf token\n",
    "        # then, we rank and select the exp_embds according to this\n",
    "        tok_and_weights_embs_df = obtain_tok_w_emb_both(prf_toks, prf_embs, outputs_seperate_weight,variant = 'OAAT',mode=self.mode, stopW = self.stopW)\n",
    "\n",
    "        # normalise use the max returned weight\n",
    "        max_weight = tok_and_weights_embs_df.iloc[0].tok_weight \n",
    "        \n",
    "        exp_tokens = tok_and_weights_embs_df.head(self.fb_embs).tid.tolist()\n",
    "        sprf_weights = tok_and_weights_embs_df.head(self.fb_embs).tok_weight.tolist()/max_weight\n",
    "        exp_embds_list = tok_and_weights_embs_df.head(self.fb_embs).tok_emb.tolist()\n",
    "        exp_embds = [torch.Tensor(item).float() for item in exp_embds_list]\n",
    "\n",
    "  \n",
    "        # build up the new dataframe columns\n",
    "        first_row = topic_and_res.iloc[0]\n",
    "        \n",
    "        # concatenate the new embeddings to the existing query embeddings \n",
    "        newemb = torch.cat([\n",
    "            first_row.query_embs, \n",
    "            torch.stack(exp_embds)\n",
    "        ])\n",
    "        \n",
    "        # the weights column defines important of each query embedding\n",
    "        weights = torch.cat([ \n",
    "            torch.ones(len(first_row.query_embs)),\n",
    "            self.beta * torch.Tensor(sprf_weights)]\n",
    "        )\n",
    "        exp_tokens = torch.IntTensor(exp_tokens)\n",
    "        \n",
    "        \n",
    "        toks = torch.cat([first_row.query_toks,\n",
    "                          exp_tokens])\n",
    "        \n",
    "        # generate the revised query dataframe row\n",
    "        rtr = pd.DataFrame([\n",
    "            [first_row.qid, \n",
    "            first_row.docno,\n",
    "            first_row.query, \n",
    "            newemb, \n",
    "            toks, \n",
    "            weights ]\n",
    "            ],\n",
    "            columns=[\"qid\",\"docno\", \"query\", \"query_embs\", \"query_toks\", \"query_weights\"])\n",
    "        \n",
    "        return rtr\n",
    "        "
   ]
  },
  {
   "cell_type": "markdown",
   "id": "polyphonic-cosmetic",
   "metadata": {},
   "source": [
    "# Validation on TREC 2019\n",
    "- We now conduct validation experiments on TREC 2019 query set. Following the evaluation measures as the [TREC 2019 Deep Learning track](https://arxiv.org/abs/2003.07820).\n"
   ]
  },
  {
   "cell_type": "markdown",
   "id": "familiar-treasury",
   "metadata": {},
   "source": [
    "- We now conduct validation experiments on TREC 2019 query set. Following the evaluation measures as the [TREC 2019 Deep Learning track](https://arxiv.org/abs/2003.07820)."
   ]
  },
  {
   "cell_type": "code",
   "execution_count": 37,
   "id": "unlimited-renaissance",
   "metadata": {},
   "outputs": [
    {
     "name": "stderr",
     "output_type": "stream",
     "text": [
      "100%|██████████| 30522/30522 [00:00<00:00, 274750.93it/s]\n",
      "100%|██████████| 30522/30522 [00:00<00:00, 269079.37it/s]\n",
      "100%|██████████| 30522/30522 [00:00<00:00, 259337.95it/s]\n",
      "100%|██████████| 30522/30522 [00:00<00:00, 266309.72it/s]\n",
      "100%|██████████| 30522/30522 [00:00<00:00, 267886.80it/s]\n",
      "100%|██████████| 30522/30522 [00:00<00:00, 269173.29it/s]\n",
      "100%|██████████| 30522/30522 [00:00<00:00, 268107.28it/s]\n",
      "100%|██████████| 30522/30522 [00:00<00:00, 274141.98it/s]\n",
      "100%|██████████| 30522/30522 [00:00<00:00, 275679.24it/s]\n",
      "100%|██████████| 30522/30522 [00:00<00:00, 266648.09it/s]\n",
      "pt.Experiment: 100%|██████████| 55/55 [14:42<00:00, 16.05s/batches]\n"
     ]
    },
    {
     "data": {
      "text/html": [
       "<style  type=\"text/css\" >\n",
       "#T_e10b8_row1_col3,#T_e10b8_row2_col1,#T_e10b8_row2_col2{\n",
       "            font-weight:  bold;\n",
       "        }</style><table id=\"T_e10b8_\" ><thead>    <tr>        <th class=\"blank level0\" ></th>        <th class=\"col_heading level0 col0\" >name</th>        <th class=\"col_heading level0 col1\" >AP(rel=2)@1000</th>        <th class=\"col_heading level0 col2\" >nDCG@10</th>        <th class=\"col_heading level0 col3\" >R(rel=2)@1000</th>    </tr></thead><tbody>\n",
       "                <tr>\n",
       "                        <th id=\"T_e10b8_level0_row0\" class=\"row_heading level0 row0\" >0</th>\n",
       "                        <td id=\"T_e10b8_row0_col0\" class=\"data row0 col0\" >colbert_e2e</td>\n",
       "                        <td id=\"T_e10b8_row0_col1\" class=\"data row0 col1\" >0.430988</td>\n",
       "                        <td id=\"T_e10b8_row0_col2\" class=\"data row0 col2\" >0.693407</td>\n",
       "                        <td id=\"T_e10b8_row0_col3\" class=\"data row0 col3\" >0.789166</td>\n",
       "            </tr>\n",
       "            <tr>\n",
       "                        <th id=\"T_e10b8_level0_row1\" class=\"row_heading level0 row1\" >1</th>\n",
       "                        <td id=\"T_e10b8_row1_col0\" class=\"data row1 col0\" >CWPRF_AAAT_1k</td>\n",
       "                        <td id=\"T_e10b8_row1_col1\" class=\"data row1 col1\" >0.527380</td>\n",
       "                        <td id=\"T_e10b8_row1_col2\" class=\"data row1 col2\" >0.730404</td>\n",
       "                        <td id=\"T_e10b8_row1_col3\" class=\"data row1 col3\" >0.862985</td>\n",
       "            </tr>\n",
       "            <tr>\n",
       "                        <th id=\"T_e10b8_level0_row2\" class=\"row_heading level0 row2\" >2</th>\n",
       "                        <td id=\"T_e10b8_row2_col0\" class=\"data row2 col0\" >CWPRF_AAAT_2k</td>\n",
       "                        <td id=\"T_e10b8_row2_col1\" class=\"data row2 col1\" >0.531881</td>\n",
       "                        <td id=\"T_e10b8_row2_col2\" class=\"data row2 col2\" >0.744428</td>\n",
       "                        <td id=\"T_e10b8_row2_col3\" class=\"data row2 col3\" >0.859627</td>\n",
       "            </tr>\n",
       "            <tr>\n",
       "                        <th id=\"T_e10b8_level0_row3\" class=\"row_heading level0 row3\" >3</th>\n",
       "                        <td id=\"T_e10b8_row3_col0\" class=\"data row3 col0\" >CWPRF_AAAT_3k</td>\n",
       "                        <td id=\"T_e10b8_row3_col1\" class=\"data row3 col1\" >0.527689</td>\n",
       "                        <td id=\"T_e10b8_row3_col2\" class=\"data row3 col2\" >0.738560</td>\n",
       "                        <td id=\"T_e10b8_row3_col3\" class=\"data row3 col3\" >0.856260</td>\n",
       "            </tr>\n",
       "            <tr>\n",
       "                        <th id=\"T_e10b8_level0_row4\" class=\"row_heading level0 row4\" >4</th>\n",
       "                        <td id=\"T_e10b8_row4_col0\" class=\"data row4 col0\" >CWPRF_AAAT_4k</td>\n",
       "                        <td id=\"T_e10b8_row4_col1\" class=\"data row4 col1\" >0.523911</td>\n",
       "                        <td id=\"T_e10b8_row4_col2\" class=\"data row4 col2\" >0.730351</td>\n",
       "                        <td id=\"T_e10b8_row4_col3\" class=\"data row4 col3\" >0.857645</td>\n",
       "            </tr>\n",
       "            <tr>\n",
       "                        <th id=\"T_e10b8_level0_row5\" class=\"row_heading level0 row5\" >5</th>\n",
       "                        <td id=\"T_e10b8_row5_col0\" class=\"data row5 col0\" >CWPRF_AAAT_5k</td>\n",
       "                        <td id=\"T_e10b8_row5_col1\" class=\"data row5 col1\" >0.525032</td>\n",
       "                        <td id=\"T_e10b8_row5_col2\" class=\"data row5 col2\" >0.724870</td>\n",
       "                        <td id=\"T_e10b8_row5_col3\" class=\"data row5 col3\" >0.858765</td>\n",
       "            </tr>\n",
       "            <tr>\n",
       "                        <th id=\"T_e10b8_level0_row6\" class=\"row_heading level0 row6\" >6</th>\n",
       "                        <td id=\"T_e10b8_row6_col0\" class=\"data row6 col0\" >CWPRF_AAAT_6k</td>\n",
       "                        <td id=\"T_e10b8_row6_col1\" class=\"data row6 col1\" >0.520622</td>\n",
       "                        <td id=\"T_e10b8_row6_col2\" class=\"data row6 col2\" >0.727121</td>\n",
       "                        <td id=\"T_e10b8_row6_col3\" class=\"data row6 col3\" >0.858419</td>\n",
       "            </tr>\n",
       "            <tr>\n",
       "                        <th id=\"T_e10b8_level0_row7\" class=\"row_heading level0 row7\" >7</th>\n",
       "                        <td id=\"T_e10b8_row7_col0\" class=\"data row7 col0\" >CWPRF_AAAT_7k</td>\n",
       "                        <td id=\"T_e10b8_row7_col1\" class=\"data row7 col1\" >0.517241</td>\n",
       "                        <td id=\"T_e10b8_row7_col2\" class=\"data row7 col2\" >0.727596</td>\n",
       "                        <td id=\"T_e10b8_row7_col3\" class=\"data row7 col3\" >0.854553</td>\n",
       "            </tr>\n",
       "            <tr>\n",
       "                        <th id=\"T_e10b8_level0_row8\" class=\"row_heading level0 row8\" >8</th>\n",
       "                        <td id=\"T_e10b8_row8_col0\" class=\"data row8 col0\" >CWPRF_AAAT_8k</td>\n",
       "                        <td id=\"T_e10b8_row8_col1\" class=\"data row8 col1\" >0.524057</td>\n",
       "                        <td id=\"T_e10b8_row8_col2\" class=\"data row8 col2\" >0.736907</td>\n",
       "                        <td id=\"T_e10b8_row8_col3\" class=\"data row8 col3\" >0.859790</td>\n",
       "            </tr>\n",
       "            <tr>\n",
       "                        <th id=\"T_e10b8_level0_row9\" class=\"row_heading level0 row9\" >9</th>\n",
       "                        <td id=\"T_e10b8_row9_col0\" class=\"data row9 col0\" >CWPRF_AAAT_9k</td>\n",
       "                        <td id=\"T_e10b8_row9_col1\" class=\"data row9 col1\" >0.522978</td>\n",
       "                        <td id=\"T_e10b8_row9_col2\" class=\"data row9 col2\" >0.740247</td>\n",
       "                        <td id=\"T_e10b8_row9_col3\" class=\"data row9 col3\" >0.861349</td>\n",
       "            </tr>\n",
       "            <tr>\n",
       "                        <th id=\"T_e10b8_level0_row10\" class=\"row_heading level0 row10\" >10</th>\n",
       "                        <td id=\"T_e10b8_row10_col0\" class=\"data row10 col0\" >CWPRF_AAAT_10k</td>\n",
       "                        <td id=\"T_e10b8_row10_col1\" class=\"data row10 col1\" >0.518039</td>\n",
       "                        <td id=\"T_e10b8_row10_col2\" class=\"data row10 col2\" >0.731847</td>\n",
       "                        <td id=\"T_e10b8_row10_col3\" class=\"data row10 col3\" >0.860307</td>\n",
       "            </tr>\n",
       "    </tbody></table>"
      ],
      "text/plain": [
       "<pandas.io.formats.style.Styler at 0x7fea26cb81d0>"
      ]
     },
     "execution_count": 37,
     "metadata": {},
     "output_type": "execute_result"
    }
   ],
   "source": [
    "# checkpoint_path = \"/path/to/checkpoint/sprf_OAAT/checkpoints/\"\n",
    "checkpoint_path  = \"/nfs/sean/workspace_xiao/SPRF_seed/AAAT_bqe_ibn_pret_r800_b24/psg/train_AAAT.py/SPRF_AAAT/checkpoints/\"\n",
    "\n",
    "pipes_A2A=[]\n",
    "names=[]\n",
    "for i in range(1,11):\n",
    "    path = checkpoint_path+f\"SPRF{i}000.dnn\"\n",
    "    prf_AAAT = (e2e%10\n",
    "             >>CWPRF_AAAT(factory,k=24,fb_embs=10,fb_docs=3,beta=5,return_docs=False,path=path,mode = 'MAX',stopW=True)\n",
    "             >> factory.set_retrieve(query_encoded=True)>>factory.index_scorer(query_encoded=True,add_ranks=True)\n",
    "             )\n",
    "\n",
    "    pipes_A2A.append(prf_AAAT)\n",
    "    names.append(f\"CWPRF_AAAT_{i}k\")\n",
    "    \n",
    "from pyterrier.measures import *\n",
    "res_validation_2019 = pt.Experiment(\n",
    "    [e2e]+pipes_A2A,\n",
    "    topics2019,\n",
    "    qrels2019,\n",
    "    eval_metrics=[AP(rel=2)@1000, nDCG@10,R(rel=2)@1000],\n",
    "#     baseline=0,\n",
    "    names=[\"colbert_e2e\"]+names, verbose=True, batch_size=10,highlight=\"bold\"\n",
    ")\n",
    "\n",
    "res_validation_2019\n",
    "    "
   ]
  },
  {
   "cell_type": "markdown",
   "id": "sharing-trail",
   "metadata": {},
   "source": [
    "# Main results on both TREC 2019 and TREC 2020\n",
    "\n",
    "- Following the evaluation measures as the TREC DL track used [TREC 2020 Deep Learning track](https://arxiv.org/abs/2003.07820), now we report the main results on TREC 2019 and  TREC 2020 query set."
   ]
  },
  {
   "cell_type": "code",
   "execution_count": 32,
   "id": "bearing-orleans",
   "metadata": {},
   "outputs": [
    {
     "name": "stderr",
     "output_type": "stream",
     "text": [
      "100%|██████████| 30522/30522 [00:00<00:00, 280513.59it/s]\n",
      "100%|██████████| 30522/30522 [00:00<00:00, 250692.33it/s]\n",
      "pt.Experiment: 100%|██████████| 10/10 [03:14<00:00, 19.48s/batches]\n"
     ]
    },
    {
     "data": {
      "text/html": [
       "<style  type=\"text/css\" >\n",
       "#T_e03bc_row0_col1,#T_e03bc_row0_col2,#T_e03bc_row1_col3{\n",
       "            font-weight:  bold;\n",
       "        }</style><table id=\"T_e03bc_\" ><thead>    <tr>        <th class=\"blank level0\" ></th>        <th class=\"col_heading level0 col0\" >name</th>        <th class=\"col_heading level0 col1\" >AP(rel=2)@1000</th>        <th class=\"col_heading level0 col2\" >nDCG@10</th>        <th class=\"col_heading level0 col3\" >R(rel=2)@1000</th>    </tr></thead><tbody>\n",
       "                <tr>\n",
       "                        <th id=\"T_e03bc_level0_row0\" class=\"row_heading level0 row0\" >0</th>\n",
       "                        <td id=\"T_e03bc_row0_col0\" class=\"data row0 col0\" >AAAT.dl19</td>\n",
       "                        <td id=\"T_e03bc_row0_col1\" class=\"data row0 col1\" >0.531881</td>\n",
       "                        <td id=\"T_e03bc_row0_col2\" class=\"data row0 col2\" >0.744428</td>\n",
       "                        <td id=\"T_e03bc_row0_col3\" class=\"data row0 col3\" >0.859627</td>\n",
       "            </tr>\n",
       "            <tr>\n",
       "                        <th id=\"T_e03bc_level0_row1\" class=\"row_heading level0 row1\" >1</th>\n",
       "                        <td id=\"T_e03bc_row1_col0\" class=\"data row1 col0\" >OAAT.dl19</td>\n",
       "                        <td id=\"T_e03bc_row1_col1\" class=\"data row1 col1\" >0.525219</td>\n",
       "                        <td id=\"T_e03bc_row1_col2\" class=\"data row1 col2\" >0.724404</td>\n",
       "                        <td id=\"T_e03bc_row1_col3\" class=\"data row1 col3\" >0.872197</td>\n",
       "            </tr>\n",
       "    </tbody></table>"
      ],
      "text/plain": [
       "<pandas.io.formats.style.Styler at 0x7fea44dd6f50>"
      ]
     },
     "execution_count": 32,
     "metadata": {},
     "output_type": "execute_result"
    }
   ],
   "source": [
    "e2e = factory.end_to_end()\n",
    "\n",
    "path_AAAT = \"/nfs/sean/workspace_xiao/SPRF_seed/AAAT_bqe_ibn_pret_r800_b24/psg/train_AAAT.py/SPRF_AAAT/checkpoints/SPRF2000.dnn\"\n",
    "prf_AAAT = (e2e%10\n",
    "         >>CWPRF_AAAT(factory,k=24,fb_embs=10,fb_docs=3,beta=5,return_docs=False,path=path_AAAT,mode = 'MAX',stopW=True)\n",
    "         >> factory.set_retrieve(query_encoded=True)>>factory.index_scorer(query_encoded=True,add_ranks=True)\n",
    "         )\n",
    "\n",
    "path_OAAT = \"/nfs/sean/workspace_xiao/SPRF_seed/OAAT_bqe_ibn_pret_r9090_b12/psg/train_OAAT.py/SPRF_AAAT/checkpoints/SPRF7000.dnn\"\n",
    "prf_OAAT = (e2e%10\n",
    "             >> CWPRF_OAAT(factory,k=24,fb_embs=10,fb_docs=3,beta=5,return_docs=False,path=path_OAAT,mode = 'MAX',stopW=True)\n",
    "             >> factory.set_retrieve(query_encoded=True)>>factory.index_scorer(query_encoded=True,add_ranks=True)\n",
    "             )\n",
    "\n",
    "from pyterrier.measures import *\n",
    "res_main_dl19 = pt.Experiment(\n",
    "    [\n",
    "     prf_AAAT, prf_OAAT],\n",
    "    topics2019,\n",
    "    qrels2019,\n",
    "    eval_metrics=[AP(rel=2)@1000, nDCG@10 ,R(rel=2)@1000],\n",
    "#     baseline=0,\n",
    "    names=[\"AAAT.dl19\",\"OAAT.dl19\"], verbose=True, batch_size=10,highlight=\"bold\"\n",
    ")\n",
    "\n",
    "res_main_dl19"
   ]
  },
  {
   "cell_type": "code",
   "execution_count": 39,
   "id": "clear-remains",
   "metadata": {},
   "outputs": [
    {
     "name": "stderr",
     "output_type": "stream",
     "text": [
      "100%|██████████| 30522/30522 [00:00<00:00, 274661.33it/s]\n",
      "100%|██████████| 30522/30522 [00:00<00:00, 259573.00it/s]\n",
      "pt.Experiment: 100%|██████████| 12/12 [03:53<00:00, 19.43s/batches]\n"
     ]
    },
    {
     "data": {
      "text/html": [
       "<style  type=\"text/css\" >\n",
       "#T_2d6a8_row0_col1,#T_2d6a8_row0_col2,#T_2d6a8_row0_col3{\n",
       "            font-weight:  bold;\n",
       "        }</style><table id=\"T_2d6a8_\" ><thead>    <tr>        <th class=\"blank level0\" ></th>        <th class=\"col_heading level0 col0\" >name</th>        <th class=\"col_heading level0 col1\" >AP(rel=2)@1000</th>        <th class=\"col_heading level0 col2\" >nDCG@10</th>        <th class=\"col_heading level0 col3\" >R(rel=2)@1000</th>    </tr></thead><tbody>\n",
       "                <tr>\n",
       "                        <th id=\"T_2d6a8_level0_row0\" class=\"row_heading level0 row0\" >0</th>\n",
       "                        <td id=\"T_2d6a8_row0_col0\" class=\"data row0 col0\" >AAAT.dl20</td>\n",
       "                        <td id=\"T_2d6a8_row0_col1\" class=\"data row0 col1\" >0.513644</td>\n",
       "                        <td id=\"T_2d6a8_row0_col2\" class=\"data row0 col2\" >0.724582</td>\n",
       "                        <td id=\"T_2d6a8_row0_col3\" class=\"data row0 col3\" >0.878334</td>\n",
       "            </tr>\n",
       "            <tr>\n",
       "                        <th id=\"T_2d6a8_level0_row1\" class=\"row_heading level0 row1\" >1</th>\n",
       "                        <td id=\"T_2d6a8_row1_col0\" class=\"data row1 col0\" >OAAT.dl20</td>\n",
       "                        <td id=\"T_2d6a8_row1_col1\" class=\"data row1 col1\" >0.504861</td>\n",
       "                        <td id=\"T_2d6a8_row1_col2\" class=\"data row1 col2\" >0.720389</td>\n",
       "                        <td id=\"T_2d6a8_row1_col3\" class=\"data row1 col3\" >0.878262</td>\n",
       "            </tr>\n",
       "    </tbody></table>"
      ],
      "text/plain": [
       "<pandas.io.formats.style.Styler at 0x7fea36b1add0>"
      ]
     },
     "execution_count": 39,
     "metadata": {},
     "output_type": "execute_result"
    }
   ],
   "source": [
    "e2e = factory.end_to_end()\n",
    "\n",
    "path_AAAT = \"/nfs/sean/workspace_xiao/SPRF_seed/AAAT_bqe_ibn_pret_r800_b24/psg/train_AAAT.py/SPRF_AAAT/checkpoints/SPRF2000.dnn\"\n",
    "prf_AAAT = (e2e%10\n",
    "         >>CWPRF_AAAT(factory,k=24,fb_embs=10,fb_docs=3,beta=5,return_docs=False,path=path_AAAT,mode = 'MAX',stopW=True)\n",
    "         >> factory.set_retrieve(query_encoded=True)>>factory.index_scorer(query_encoded=True,add_ranks=True)\n",
    "         )\n",
    "\n",
    "path_OAAT = \"/nfs/sean/workspace_xiao/SPRF_seed/OAAT_bqe_ibn_pret_r9090_b12/psg/train_OAAT.py/SPRF_AAAT/checkpoints/SPRF7000.dnn\"\n",
    "prf_OAAT = (e2e%10\n",
    "             >> CWPRF_OAAT(factory,k=24,fb_embs=10,fb_docs=3,beta=5,return_docs=False,path=path_OAAT,mode = 'MAX',stopW=True)\n",
    "             >> factory.set_retrieve(query_encoded=True)>>factory.index_scorer(query_encoded=True,add_ranks=True)\n",
    "             )\n",
    "\n",
    "from pyterrier.measures import *\n",
    "res_main_dl20 = pt.Experiment(\n",
    "    [\n",
    "     prf_AAAT, prf_OAAT],\n",
    "    topics2020,\n",
    "    qrels2020,\n",
    "    eval_metrics=[AP(rel=2)@1000, nDCG@10 ,R(rel=2)@1000],\n",
    "#     baseline=0,\n",
    "    names=[\"AAAT.dl20\",\"OAAT.dl20\"], verbose=True, batch_size=10,highlight=\"bold\"\n",
    ")\n",
    "\n",
    "res_main_dl20"
   ]
  },
  {
   "cell_type": "markdown",
   "id": "living-performance",
   "metadata": {},
   "source": [
    "# Hyper-parameter Search\n",
    "- Now, we tune the hyper-parameter including:\n",
    "   - $f_p$, which is the number of feedback documents; \n",
    "   - $\\beta$, which controls the importance of the expansion embeddings; \n",
    "   - $f_e$, which the number of the expansion embeddings for SPRF."
   ]
  },
  {
   "cell_type": "markdown",
   "id": "rolled-globe",
   "metadata": {},
   "source": [
    "### Nbr. Exp_terms $f_e$"
   ]
  },
  {
   "cell_type": "code",
   "execution_count": 40,
   "id": "handed-citizen",
   "metadata": {},
   "outputs": [],
   "source": [
    "from pyterrier.measures import *\n",
    "def prfRanker_exp_terms( perquery=False):\n",
    "    topics = topics2019\n",
    "    qrels = qrels2019\n",
    "    dfs = []\n",
    "    for exp_terms in range(1,5):\n",
    "        prf_AAAT = (e2e%10\n",
    "         >>CWPRF_AAAT(factory,k=24,fb_embs=exp_terms,fb_docs=3,beta=5,return_docs=False,path=path_AAAT,mode = 'MAX',stopW=True)\n",
    "         >> factory.set_retrieve(query_encoded=True)>>factory.index_scorer(query_encoded=True,add_ranks=True)\n",
    "         )\n",
    "        print(\"exp_terms:\",exp_terms)\n",
    "        df = pt.Experiment(\n",
    "            [(prf_AAAT)],\n",
    "            topics,\n",
    "            qrels,\n",
    "            eval_metrics=[RR(rel=2), RR(rel=2),R(rel=2)@100,R(rel=2)@1000, nDCG@10, nDCG@100, AP(rel=2),\"mrt\"],            \n",
    "            names=[\"AAAT %1f exp_terms\"%(exp_terms)],\n",
    "            perquery=perquery\n",
    "        )\n",
    "        print(df)\n",
    "        dfs.append(df)\n",
    "    return pd.concat(dfs)"
   ]
  },
  {
   "cell_type": "code",
   "execution_count": 41,
   "id": "final-killer",
   "metadata": {
    "scrolled": true
   },
   "outputs": [
    {
     "name": "stderr",
     "output_type": "stream",
     "text": [
      "100%|██████████| 30522/30522 [00:00<00:00, 290055.37it/s]\n"
     ]
    },
    {
     "name": "stdout",
     "output_type": "stream",
     "text": [
      "exp_terms: 1\n"
     ]
    },
    {
     "name": "stderr",
     "output_type": "stream",
     "text": [
      "100%|██████████| 30522/30522 [00:00<00:00, 265512.71it/s]"
     ]
    },
    {
     "name": "stdout",
     "output_type": "stream",
     "text": [
      "                      name  RR(rel=2)  R(rel=2)@100  R(rel=2)@1000   nDCG@10  \\\n",
      "0  AAAT 1.000000 exp_terms   0.868364      0.604444       0.794932  0.707223   \n",
      "\n",
      "   nDCG@100  AP(rel=2)          mrt  \n",
      "0  0.632842    0.45618  1484.569138  \n"
     ]
    },
    {
     "name": "stderr",
     "output_type": "stream",
     "text": [
      "\n"
     ]
    },
    {
     "name": "stdout",
     "output_type": "stream",
     "text": [
      "exp_terms: 2\n"
     ]
    },
    {
     "name": "stderr",
     "output_type": "stream",
     "text": [
      "100%|██████████| 30522/30522 [00:00<00:00, 158791.56it/s]"
     ]
    },
    {
     "name": "stdout",
     "output_type": "stream",
     "text": [
      "                      name  RR(rel=2)  R(rel=2)@100  R(rel=2)@1000   nDCG@10  \\\n",
      "0  AAAT 2.000000 exp_terms   0.865249      0.616204       0.809533  0.716412   \n",
      "\n",
      "   nDCG@100  AP(rel=2)          mrt  \n",
      "0  0.645126   0.473732  1536.781663  \n"
     ]
    },
    {
     "name": "stderr",
     "output_type": "stream",
     "text": [
      "\n"
     ]
    },
    {
     "name": "stdout",
     "output_type": "stream",
     "text": [
      "exp_terms: 3\n"
     ]
    },
    {
     "name": "stderr",
     "output_type": "stream",
     "text": [
      "100%|██████████| 30522/30522 [00:00<00:00, 273805.42it/s]"
     ]
    },
    {
     "name": "stdout",
     "output_type": "stream",
     "text": [
      "                      name  RR(rel=2)  R(rel=2)@100  R(rel=2)@1000   nDCG@10  \\\n",
      "0  AAAT 3.000000 exp_terms    0.85614      0.632069       0.824032  0.721957   \n",
      "\n",
      "   nDCG@100  AP(rel=2)          mrt  \n",
      "0   0.66234   0.488571  1572.394161  \n"
     ]
    },
    {
     "name": "stderr",
     "output_type": "stream",
     "text": [
      "\n"
     ]
    },
    {
     "name": "stdout",
     "output_type": "stream",
     "text": [
      "exp_terms: 4\n",
      "                      name  RR(rel=2)  R(rel=2)@100  R(rel=2)@1000   nDCG@10  \\\n",
      "0  AAAT 4.000000 exp_terms   0.855383      0.632219       0.841125  0.725121   \n",
      "\n",
      "   nDCG@100  AP(rel=2)         mrt  \n",
      "0  0.662369   0.500486  1630.33407  \n"
     ]
    },
    {
     "data": {
      "text/html": [
       "<div>\n",
       "<style scoped>\n",
       "    .dataframe tbody tr th:only-of-type {\n",
       "        vertical-align: middle;\n",
       "    }\n",
       "\n",
       "    .dataframe tbody tr th {\n",
       "        vertical-align: top;\n",
       "    }\n",
       "\n",
       "    .dataframe thead th {\n",
       "        text-align: right;\n",
       "    }\n",
       "</style>\n",
       "<table border=\"1\" class=\"dataframe\">\n",
       "  <thead>\n",
       "    <tr style=\"text-align: right;\">\n",
       "      <th></th>\n",
       "      <th>name</th>\n",
       "      <th>RR(rel=2)</th>\n",
       "      <th>R(rel=2)@100</th>\n",
       "      <th>R(rel=2)@1000</th>\n",
       "      <th>nDCG@10</th>\n",
       "      <th>nDCG@100</th>\n",
       "      <th>AP(rel=2)</th>\n",
       "      <th>mrt</th>\n",
       "    </tr>\n",
       "  </thead>\n",
       "  <tbody>\n",
       "    <tr>\n",
       "      <th>0</th>\n",
       "      <td>AAAT 1.000000 exp_terms</td>\n",
       "      <td>0.868364</td>\n",
       "      <td>0.604444</td>\n",
       "      <td>0.794932</td>\n",
       "      <td>0.707223</td>\n",
       "      <td>0.632842</td>\n",
       "      <td>0.456180</td>\n",
       "      <td>1484.569138</td>\n",
       "    </tr>\n",
       "    <tr>\n",
       "      <th>0</th>\n",
       "      <td>AAAT 2.000000 exp_terms</td>\n",
       "      <td>0.865249</td>\n",
       "      <td>0.616204</td>\n",
       "      <td>0.809533</td>\n",
       "      <td>0.716412</td>\n",
       "      <td>0.645126</td>\n",
       "      <td>0.473732</td>\n",
       "      <td>1536.781663</td>\n",
       "    </tr>\n",
       "    <tr>\n",
       "      <th>0</th>\n",
       "      <td>AAAT 3.000000 exp_terms</td>\n",
       "      <td>0.856140</td>\n",
       "      <td>0.632069</td>\n",
       "      <td>0.824032</td>\n",
       "      <td>0.721957</td>\n",
       "      <td>0.662340</td>\n",
       "      <td>0.488571</td>\n",
       "      <td>1572.394161</td>\n",
       "    </tr>\n",
       "    <tr>\n",
       "      <th>0</th>\n",
       "      <td>AAAT 4.000000 exp_terms</td>\n",
       "      <td>0.855383</td>\n",
       "      <td>0.632219</td>\n",
       "      <td>0.841125</td>\n",
       "      <td>0.725121</td>\n",
       "      <td>0.662369</td>\n",
       "      <td>0.500486</td>\n",
       "      <td>1630.334070</td>\n",
       "    </tr>\n",
       "  </tbody>\n",
       "</table>\n",
       "</div>"
      ],
      "text/plain": [
       "                      name  RR(rel=2)  R(rel=2)@100  R(rel=2)@1000   nDCG@10  \\\n",
       "0  AAAT 1.000000 exp_terms   0.868364      0.604444       0.794932  0.707223   \n",
       "0  AAAT 2.000000 exp_terms   0.865249      0.616204       0.809533  0.716412   \n",
       "0  AAAT 3.000000 exp_terms   0.856140      0.632069       0.824032  0.721957   \n",
       "0  AAAT 4.000000 exp_terms   0.855383      0.632219       0.841125  0.725121   \n",
       "\n",
       "   nDCG@100  AP(rel=2)          mrt  \n",
       "0  0.632842   0.456180  1484.569138  \n",
       "0  0.645126   0.473732  1536.781663  \n",
       "0  0.662340   0.488571  1572.394161  \n",
       "0  0.662369   0.500486  1630.334070  "
      ]
     },
     "execution_count": 41,
     "metadata": {},
     "output_type": "execute_result"
    }
   ],
   "source": [
    "res_nbr_exp=prfRanker_exp_terms()\n",
    "res_nbr_exp"
   ]
  },
  {
   "cell_type": "markdown",
   "id": "accompanied-contemporary",
   "metadata": {},
   "source": [
    "### Parameter $\\beta$ beta"
   ]
  },
  {
   "cell_type": "code",
   "execution_count": 48,
   "id": "swiss-battery",
   "metadata": {},
   "outputs": [],
   "source": [
    "from pyterrier.measures import *\n",
    "def prfRanker_beta( perquery=False):\n",
    "    topics = topics2019\n",
    "    qrels = qrels2019\n",
    "    dfs = []\n",
    "    for beta in range(0,11):\n",
    "        prf_AAAT = (e2e%10\n",
    "         >>CWPRF_AAAT(factory,k=24,fb_embs=10,fb_docs=3,beta=beta,return_docs=False,path=path_AAAT,mode = 'MAX',stopW=True)\n",
    "         >> factory.set_retrieve(query_encoded=True)>>factory.index_scorer(query_encoded=True,add_ranks=True)\n",
    "         )\n",
    "        print(\"beta:\",beta)\n",
    "        df = pt.Experiment(\n",
    "            [(prf_AAAT)],\n",
    "            topics,\n",
    "            qrels,\n",
    "            eval_metrics=[RR(rel=2), RR(rel=2),R(rel=2)@100,R(rel=2)@1000, nDCG@10, nDCG@100, AP(rel=2),\"mrt\"],            \n",
    "            names=[\"AAAT %1f beta\"%(beta)],\n",
    "            perquery=perquery\n",
    "        )\n",
    "#         print(df)\n",
    "        dfs.append(df)\n",
    "    return pd.concat(dfs)"
   ]
  },
  {
   "cell_type": "code",
   "execution_count": 49,
   "id": "indirect-mining",
   "metadata": {},
   "outputs": [
    {
     "name": "stderr",
     "output_type": "stream",
     "text": [
      "100%|██████████| 30522/30522 [00:00<00:00, 264093.53it/s]\n"
     ]
    },
    {
     "name": "stdout",
     "output_type": "stream",
     "text": [
      "beta: 0\n"
     ]
    },
    {
     "name": "stderr",
     "output_type": "stream",
     "text": [
      "100%|██████████| 30522/30522 [00:00<00:00, 279874.57it/s]\n"
     ]
    },
    {
     "name": "stdout",
     "output_type": "stream",
     "text": [
      "beta: 1\n"
     ]
    },
    {
     "name": "stderr",
     "output_type": "stream",
     "text": [
      "100%|██████████| 30522/30522 [00:00<00:00, 268588.78it/s]\n"
     ]
    },
    {
     "name": "stdout",
     "output_type": "stream",
     "text": [
      "beta: 2\n"
     ]
    },
    {
     "name": "stderr",
     "output_type": "stream",
     "text": [
      "100%|██████████| 30522/30522 [00:00<00:00, 273906.19it/s]\n"
     ]
    },
    {
     "name": "stdout",
     "output_type": "stream",
     "text": [
      "beta: 3\n"
     ]
    },
    {
     "name": "stderr",
     "output_type": "stream",
     "text": [
      "100%|██████████| 30522/30522 [00:00<00:00, 280842.82it/s]\n"
     ]
    },
    {
     "name": "stdout",
     "output_type": "stream",
     "text": [
      "beta: 4\n"
     ]
    },
    {
     "name": "stderr",
     "output_type": "stream",
     "text": [
      "100%|██████████| 30522/30522 [00:00<00:00, 269261.04it/s]\n"
     ]
    },
    {
     "name": "stdout",
     "output_type": "stream",
     "text": [
      "beta: 5\n"
     ]
    },
    {
     "name": "stderr",
     "output_type": "stream",
     "text": [
      "100%|██████████| 30522/30522 [00:00<00:00, 274987.00it/s]\n"
     ]
    },
    {
     "name": "stdout",
     "output_type": "stream",
     "text": [
      "beta: 6\n"
     ]
    },
    {
     "name": "stderr",
     "output_type": "stream",
     "text": [
      "100%|██████████| 30522/30522 [00:00<00:00, 278150.02it/s]\n"
     ]
    },
    {
     "name": "stdout",
     "output_type": "stream",
     "text": [
      "beta: 7\n"
     ]
    },
    {
     "name": "stderr",
     "output_type": "stream",
     "text": [
      "100%|██████████| 30522/30522 [00:00<00:00, 263898.63it/s]\n"
     ]
    },
    {
     "name": "stdout",
     "output_type": "stream",
     "text": [
      "beta: 8\n"
     ]
    },
    {
     "name": "stderr",
     "output_type": "stream",
     "text": [
      "100%|██████████| 30522/30522 [00:00<00:00, 271947.09it/s]\n"
     ]
    },
    {
     "name": "stdout",
     "output_type": "stream",
     "text": [
      "beta: 9\n"
     ]
    },
    {
     "name": "stderr",
     "output_type": "stream",
     "text": [
      "100%|██████████| 30522/30522 [00:00<00:00, 255333.39it/s]\n"
     ]
    },
    {
     "name": "stdout",
     "output_type": "stream",
     "text": [
      "beta: 10\n"
     ]
    },
    {
     "data": {
      "text/html": [
       "<div>\n",
       "<style scoped>\n",
       "    .dataframe tbody tr th:only-of-type {\n",
       "        vertical-align: middle;\n",
       "    }\n",
       "\n",
       "    .dataframe tbody tr th {\n",
       "        vertical-align: top;\n",
       "    }\n",
       "\n",
       "    .dataframe thead th {\n",
       "        text-align: right;\n",
       "    }\n",
       "</style>\n",
       "<table border=\"1\" class=\"dataframe\">\n",
       "  <thead>\n",
       "    <tr style=\"text-align: right;\">\n",
       "      <th></th>\n",
       "      <th>name</th>\n",
       "      <th>RR(rel=2)</th>\n",
       "      <th>R(rel=2)@100</th>\n",
       "      <th>R(rel=2)@1000</th>\n",
       "      <th>nDCG@10</th>\n",
       "      <th>nDCG@100</th>\n",
       "      <th>AP(rel=2)</th>\n",
       "      <th>mrt</th>\n",
       "    </tr>\n",
       "  </thead>\n",
       "  <tbody>\n",
       "    <tr>\n",
       "      <th>0</th>\n",
       "      <td>AAAT 0.000000 beta</td>\n",
       "      <td>0.852883</td>\n",
       "      <td>0.586183</td>\n",
       "      <td>0.828534</td>\n",
       "      <td>0.693407</td>\n",
       "      <td>0.607981</td>\n",
       "      <td>0.443277</td>\n",
       "      <td>1938.104107</td>\n",
       "    </tr>\n",
       "    <tr>\n",
       "      <th>0</th>\n",
       "      <td>AAAT 1.000000 beta</td>\n",
       "      <td>0.873000</td>\n",
       "      <td>0.615146</td>\n",
       "      <td>0.847557</td>\n",
       "      <td>0.727186</td>\n",
       "      <td>0.644476</td>\n",
       "      <td>0.488411</td>\n",
       "      <td>1868.802222</td>\n",
       "    </tr>\n",
       "    <tr>\n",
       "      <th>0</th>\n",
       "      <td>AAAT 2.000000 beta</td>\n",
       "      <td>0.880726</td>\n",
       "      <td>0.635667</td>\n",
       "      <td>0.857582</td>\n",
       "      <td>0.738134</td>\n",
       "      <td>0.661775</td>\n",
       "      <td>0.507114</td>\n",
       "      <td>1847.642882</td>\n",
       "    </tr>\n",
       "    <tr>\n",
       "      <th>0</th>\n",
       "      <td>AAAT 3.000000 beta</td>\n",
       "      <td>0.876833</td>\n",
       "      <td>0.638737</td>\n",
       "      <td>0.865188</td>\n",
       "      <td>0.742072</td>\n",
       "      <td>0.671292</td>\n",
       "      <td>0.520922</td>\n",
       "      <td>1870.105101</td>\n",
       "    </tr>\n",
       "    <tr>\n",
       "      <th>0</th>\n",
       "      <td>AAAT 4.000000 beta</td>\n",
       "      <td>0.876826</td>\n",
       "      <td>0.644230</td>\n",
       "      <td>0.860720</td>\n",
       "      <td>0.744311</td>\n",
       "      <td>0.678603</td>\n",
       "      <td>0.529320</td>\n",
       "      <td>1804.732567</td>\n",
       "    </tr>\n",
       "    <tr>\n",
       "      <th>0</th>\n",
       "      <td>AAAT 5.000000 beta</td>\n",
       "      <td>0.867128</td>\n",
       "      <td>0.650331</td>\n",
       "      <td>0.859627</td>\n",
       "      <td>0.744428</td>\n",
       "      <td>0.682528</td>\n",
       "      <td>0.533567</td>\n",
       "      <td>1897.757083</td>\n",
       "    </tr>\n",
       "    <tr>\n",
       "      <th>0</th>\n",
       "      <td>AAAT 6.000000 beta</td>\n",
       "      <td>0.864021</td>\n",
       "      <td>0.650224</td>\n",
       "      <td>0.858610</td>\n",
       "      <td>0.743791</td>\n",
       "      <td>0.683054</td>\n",
       "      <td>0.535180</td>\n",
       "      <td>1807.732631</td>\n",
       "    </tr>\n",
       "    <tr>\n",
       "      <th>0</th>\n",
       "      <td>AAAT 7.000000 beta</td>\n",
       "      <td>0.863240</td>\n",
       "      <td>0.649727</td>\n",
       "      <td>0.856016</td>\n",
       "      <td>0.739653</td>\n",
       "      <td>0.683411</td>\n",
       "      <td>0.536643</td>\n",
       "      <td>1828.004621</td>\n",
       "    </tr>\n",
       "    <tr>\n",
       "      <th>0</th>\n",
       "      <td>AAAT 8.000000 beta</td>\n",
       "      <td>0.862269</td>\n",
       "      <td>0.650317</td>\n",
       "      <td>0.855054</td>\n",
       "      <td>0.739414</td>\n",
       "      <td>0.684277</td>\n",
       "      <td>0.537505</td>\n",
       "      <td>1852.063124</td>\n",
       "    </tr>\n",
       "    <tr>\n",
       "      <th>0</th>\n",
       "      <td>AAAT 9.000000 beta</td>\n",
       "      <td>0.862267</td>\n",
       "      <td>0.648913</td>\n",
       "      <td>0.852675</td>\n",
       "      <td>0.740044</td>\n",
       "      <td>0.683743</td>\n",
       "      <td>0.537173</td>\n",
       "      <td>1866.029632</td>\n",
       "    </tr>\n",
       "    <tr>\n",
       "      <th>0</th>\n",
       "      <td>AAAT 10.000000 beta</td>\n",
       "      <td>0.861942</td>\n",
       "      <td>0.647782</td>\n",
       "      <td>0.852442</td>\n",
       "      <td>0.739220</td>\n",
       "      <td>0.683441</td>\n",
       "      <td>0.537641</td>\n",
       "      <td>1955.870108</td>\n",
       "    </tr>\n",
       "  </tbody>\n",
       "</table>\n",
       "</div>"
      ],
      "text/plain": [
       "                  name  RR(rel=2)  R(rel=2)@100  R(rel=2)@1000   nDCG@10  \\\n",
       "0   AAAT 0.000000 beta   0.852883      0.586183       0.828534  0.693407   \n",
       "0   AAAT 1.000000 beta   0.873000      0.615146       0.847557  0.727186   \n",
       "0   AAAT 2.000000 beta   0.880726      0.635667       0.857582  0.738134   \n",
       "0   AAAT 3.000000 beta   0.876833      0.638737       0.865188  0.742072   \n",
       "0   AAAT 4.000000 beta   0.876826      0.644230       0.860720  0.744311   \n",
       "0   AAAT 5.000000 beta   0.867128      0.650331       0.859627  0.744428   \n",
       "0   AAAT 6.000000 beta   0.864021      0.650224       0.858610  0.743791   \n",
       "0   AAAT 7.000000 beta   0.863240      0.649727       0.856016  0.739653   \n",
       "0   AAAT 8.000000 beta   0.862269      0.650317       0.855054  0.739414   \n",
       "0   AAAT 9.000000 beta   0.862267      0.648913       0.852675  0.740044   \n",
       "0  AAAT 10.000000 beta   0.861942      0.647782       0.852442  0.739220   \n",
       "\n",
       "   nDCG@100  AP(rel=2)          mrt  \n",
       "0  0.607981   0.443277  1938.104107  \n",
       "0  0.644476   0.488411  1868.802222  \n",
       "0  0.661775   0.507114  1847.642882  \n",
       "0  0.671292   0.520922  1870.105101  \n",
       "0  0.678603   0.529320  1804.732567  \n",
       "0  0.682528   0.533567  1897.757083  \n",
       "0  0.683054   0.535180  1807.732631  \n",
       "0  0.683411   0.536643  1828.004621  \n",
       "0  0.684277   0.537505  1852.063124  \n",
       "0  0.683743   0.537173  1866.029632  \n",
       "0  0.683441   0.537641  1955.870108  "
      ]
     },
     "execution_count": 49,
     "metadata": {},
     "output_type": "execute_result"
    }
   ],
   "source": [
    "res_beta=prfRanker_beta()\n",
    "res_beta"
   ]
  },
  {
   "cell_type": "code",
   "execution_count": 52,
   "id": "anonymous-vessel",
   "metadata": {},
   "outputs": [],
   "source": [
    "from pyterrier.measures import *\n",
    "def prfRanker_fbdocs( perquery=False):\n",
    "    topics = topics2019\n",
    "    qrels = qrels2019\n",
    "    dfs = []\n",
    "    for fb_doc in range(1,5):\n",
    "        prf_AAAT = (e2e%10\n",
    "         >>CWPRF_AAAT(factory,k=24,fb_embs=10,fb_docs=fb_doc,beta=5,return_docs=False,path=path_AAAT,mode = 'MAX',stopW=True)\n",
    "         >> factory.set_retrieve(query_encoded=True)>>factory.index_scorer(query_encoded=True,add_ranks=True)\n",
    "         )\n",
    "        print(\"fb_docs:\",fb_doc)\n",
    "        df = pt.Experiment(\n",
    "            [(prf_AAAT)],\n",
    "            topics,\n",
    "            qrels,\n",
    "            eval_metrics=[RR(rel=2), RR(rel=2),R(rel=2)@100,R(rel=2)@1000, nDCG@10, nDCG@100, AP(rel=2),\"mrt\"],            \n",
    "            names=[\"AAAT %1f fb_doc\"%(fb_doc)],\n",
    "            perquery=perquery\n",
    "        )\n",
    "        print(df)\n",
    "        dfs.append(df)\n",
    "    return pd.concat(dfs)"
   ]
  },
  {
   "cell_type": "code",
   "execution_count": 53,
   "id": "fossil-history",
   "metadata": {
    "scrolled": true
   },
   "outputs": [
    {
     "name": "stderr",
     "output_type": "stream",
     "text": [
      "100%|██████████| 30522/30522 [00:00<00:00, 273221.64it/s]\n"
     ]
    },
    {
     "name": "stdout",
     "output_type": "stream",
     "text": [
      "fb_docs: 1\n"
     ]
    },
    {
     "name": "stderr",
     "output_type": "stream",
     "text": [
      "100%|██████████| 30522/30522 [00:00<00:00, 259649.86it/s]"
     ]
    },
    {
     "name": "stdout",
     "output_type": "stream",
     "text": [
      "                   name  RR(rel=2)  R(rel=2)@100  R(rel=2)@1000   nDCG@10  \\\n",
      "0  AAAT 1.000000 fb_doc    0.86056      0.641845       0.863299  0.724838   \n",
      "\n",
      "   nDCG@100  AP(rel=2)          mrt  \n",
      "0  0.668962    0.51078  1747.003051  \n"
     ]
    },
    {
     "name": "stderr",
     "output_type": "stream",
     "text": [
      "\n"
     ]
    },
    {
     "name": "stdout",
     "output_type": "stream",
     "text": [
      "fb_docs: 2\n"
     ]
    },
    {
     "name": "stderr",
     "output_type": "stream",
     "text": [
      "100%|██████████| 30522/30522 [00:00<00:00, 277200.22it/s]"
     ]
    },
    {
     "name": "stdout",
     "output_type": "stream",
     "text": [
      "                   name  RR(rel=2)  R(rel=2)@100  R(rel=2)@1000   nDCG@10  \\\n",
      "0  AAAT 2.000000 fb_doc   0.833655      0.644076        0.84943  0.732905   \n",
      "\n",
      "   nDCG@100  AP(rel=2)          mrt  \n",
      "0  0.674183   0.526402  1773.806532  \n"
     ]
    },
    {
     "name": "stderr",
     "output_type": "stream",
     "text": [
      "\n"
     ]
    },
    {
     "name": "stdout",
     "output_type": "stream",
     "text": [
      "fb_docs: 3\n"
     ]
    },
    {
     "name": "stderr",
     "output_type": "stream",
     "text": [
      "100%|██████████| 30522/30522 [00:00<00:00, 271432.18it/s]"
     ]
    },
    {
     "name": "stdout",
     "output_type": "stream",
     "text": [
      "                   name  RR(rel=2)  R(rel=2)@100  R(rel=2)@1000   nDCG@10  \\\n",
      "0  AAAT 3.000000 fb_doc   0.867128      0.650331       0.859627  0.744428   \n",
      "\n",
      "   nDCG@100  AP(rel=2)          mrt  \n",
      "0  0.682528   0.533567  1819.796863  \n"
     ]
    },
    {
     "name": "stderr",
     "output_type": "stream",
     "text": [
      "\n"
     ]
    },
    {
     "name": "stdout",
     "output_type": "stream",
     "text": [
      "fb_docs: 4\n",
      "                   name  RR(rel=2)  R(rel=2)@100  R(rel=2)@1000   nDCG@10  \\\n",
      "0  AAAT 4.000000 fb_doc   0.873547      0.647226        0.86026  0.749132   \n",
      "\n",
      "   nDCG@100  AP(rel=2)          mrt  \n",
      "0  0.680396   0.537098  1977.767955  \n"
     ]
    },
    {
     "data": {
      "text/html": [
       "<div>\n",
       "<style scoped>\n",
       "    .dataframe tbody tr th:only-of-type {\n",
       "        vertical-align: middle;\n",
       "    }\n",
       "\n",
       "    .dataframe tbody tr th {\n",
       "        vertical-align: top;\n",
       "    }\n",
       "\n",
       "    .dataframe thead th {\n",
       "        text-align: right;\n",
       "    }\n",
       "</style>\n",
       "<table border=\"1\" class=\"dataframe\">\n",
       "  <thead>\n",
       "    <tr style=\"text-align: right;\">\n",
       "      <th></th>\n",
       "      <th>name</th>\n",
       "      <th>RR(rel=2)</th>\n",
       "      <th>R(rel=2)@100</th>\n",
       "      <th>R(rel=2)@1000</th>\n",
       "      <th>nDCG@10</th>\n",
       "      <th>nDCG@100</th>\n",
       "      <th>AP(rel=2)</th>\n",
       "      <th>mrt</th>\n",
       "    </tr>\n",
       "  </thead>\n",
       "  <tbody>\n",
       "    <tr>\n",
       "      <th>0</th>\n",
       "      <td>AAAT 1.000000 fb_doc</td>\n",
       "      <td>0.860560</td>\n",
       "      <td>0.641845</td>\n",
       "      <td>0.863299</td>\n",
       "      <td>0.724838</td>\n",
       "      <td>0.668962</td>\n",
       "      <td>0.510780</td>\n",
       "      <td>1747.003051</td>\n",
       "    </tr>\n",
       "    <tr>\n",
       "      <th>0</th>\n",
       "      <td>AAAT 2.000000 fb_doc</td>\n",
       "      <td>0.833655</td>\n",
       "      <td>0.644076</td>\n",
       "      <td>0.849430</td>\n",
       "      <td>0.732905</td>\n",
       "      <td>0.674183</td>\n",
       "      <td>0.526402</td>\n",
       "      <td>1773.806532</td>\n",
       "    </tr>\n",
       "    <tr>\n",
       "      <th>0</th>\n",
       "      <td>AAAT 3.000000 fb_doc</td>\n",
       "      <td>0.867128</td>\n",
       "      <td>0.650331</td>\n",
       "      <td>0.859627</td>\n",
       "      <td>0.744428</td>\n",
       "      <td>0.682528</td>\n",
       "      <td>0.533567</td>\n",
       "      <td>1819.796863</td>\n",
       "    </tr>\n",
       "    <tr>\n",
       "      <th>0</th>\n",
       "      <td>AAAT 4.000000 fb_doc</td>\n",
       "      <td>0.873547</td>\n",
       "      <td>0.647226</td>\n",
       "      <td>0.860260</td>\n",
       "      <td>0.749132</td>\n",
       "      <td>0.680396</td>\n",
       "      <td>0.537098</td>\n",
       "      <td>1977.767955</td>\n",
       "    </tr>\n",
       "  </tbody>\n",
       "</table>\n",
       "</div>"
      ],
      "text/plain": [
       "                   name  RR(rel=2)  R(rel=2)@100  R(rel=2)@1000   nDCG@10  \\\n",
       "0  AAAT 1.000000 fb_doc   0.860560      0.641845       0.863299  0.724838   \n",
       "0  AAAT 2.000000 fb_doc   0.833655      0.644076       0.849430  0.732905   \n",
       "0  AAAT 3.000000 fb_doc   0.867128      0.650331       0.859627  0.744428   \n",
       "0  AAAT 4.000000 fb_doc   0.873547      0.647226       0.860260  0.749132   \n",
       "\n",
       "   nDCG@100  AP(rel=2)          mrt  \n",
       "0  0.668962   0.510780  1747.003051  \n",
       "0  0.674183   0.526402  1773.806532  \n",
       "0  0.682528   0.533567  1819.796863  \n",
       "0  0.680396   0.537098  1977.767955  "
      ]
     },
     "execution_count": 53,
     "metadata": {},
     "output_type": "execute_result"
    }
   ],
   "source": [
    "res_fb_docs=prfRanker_fbdocs()\n",
    "res_fb_docs"
   ]
  },
  {
   "cell_type": "code",
   "execution_count": null,
   "id": "affected-sheep",
   "metadata": {},
   "outputs": [],
   "source": []
  }
 ],
 "metadata": {
  "kernelspec": {
   "display_name": "Python 3",
   "language": "python",
   "name": "python3"
  },
  "language_info": {
   "codemirror_mode": {
    "name": "ipython",
    "version": 3
   },
   "file_extension": ".py",
   "mimetype": "text/x-python",
   "name": "python",
   "nbconvert_exporter": "python",
   "pygments_lexer": "ipython3",
   "version": "3.7.9"
  }
 },
 "nbformat": 4,
 "nbformat_minor": 5
}
